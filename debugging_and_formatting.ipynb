{
 "cells": [
  {
   "cell_type": "markdown",
   "id": "cc05d757",
   "metadata": {},
   "source": [
    "# Formatting\n",
    "\n",
    "> “Indeed, the ratio of time spent reading versus writing is well over 10 to 1. We are constantly reading old code as part of the effort to write new code. ...[Therefore,] making it easy to read makes it easier to write.”\n",
    ">\n",
    ">― Robert C. Martin, Clean Code: A Handbook of Agile Software Craftsmanship \n",
    "\n",
    "https://www.goodreads.com/quotes/835238-indeed-the-ratio-of-time-spent-reading-versus-writing-is\n"
   ]
  },
  {
   "cell_type": "code",
   "execution_count": null,
   "id": "cff61f61",
   "metadata": {},
   "outputs": [],
   "source": [
    "quantity = 3\n",
    "itemno = 567\n",
    "price = 49\n",
    "\n",
    "myorder_legacy =  \"I want %s pieces of item number %s for %.2f dollars.\"\n",
    "print(myorder_legacy % (quantity, itemno, price))\n",
    "\n",
    "myorder = \"I want {} pieces of item number {} for {:.2f} dollars.\"\n",
    "print(myorder.format(quantity, itemno, price))\n",
    "\n",
    "myorder_indexed = \"I want {0} pieces of item number {1} for {2:.2f} dollars.\"\n",
    "print(myorder_indexed.format(quantity, itemno, price))\n",
    "    \n",
    "myorder_named = \"I want {quantity} pieces of item number {itemno} for {price:.2f} dollars.\"\n",
    "print(myorder_format.format(quantity=quantity, itemno=itemno, price=price))"
   ]
  },
  {
   "cell_type": "markdown",
   "id": "264ff828",
   "metadata": {},
   "source": [
    "## Exploiting format string"
   ]
  },
  {
   "cell_type": "code",
   "execution_count": null,
   "id": "622f33b9",
   "metadata": {},
   "outputs": [],
   "source": [
    "api_key = 'my_secret'\n",
    "\n",
    "\n",
    "class Person(object):\n",
    "    def __init__(self, username):\n",
    "        super(Person, self).__init__()\n",
    "        self.username = username\n",
    "\n",
    "def congratulate_user(format_string: str, person: Person):\n",
    "    print(format_string.format(person=person))\n",
    "\n",
    "        \n",
    "person = Person('Bill')\n",
    "\n",
    "congratulate_user(\"Hi {person.username}!\", person)"
   ]
  },
  {
   "cell_type": "code",
   "execution_count": null,
   "id": "5f808c49",
   "metadata": {},
   "outputs": [],
   "source": [
    "#Hacking data\n",
    "congratulate_user(\"{person.__init__.__globals__}\", person)"
   ]
  },
  {
   "cell_type": "markdown",
   "id": "6004ba94",
   "metadata": {},
   "source": [
    "# Debugging\n",
    "1. dis\n",
    "1. print\n",
    "1. icecream\n",
    "1. logging\n",
    "1. assert\n",
    "1. pdb\n",
    "1. breakpoint()\n",
    "1. remote debugging (ssh, https://github.com/jorgecolonconsulting/debugger_helper)"
   ]
  },
  {
   "cell_type": "code",
   "execution_count": null,
   "id": "fc779563",
   "metadata": {
    "scrolled": true
   },
   "outputs": [],
   "source": [
    "from dis import dis\n",
    "dis(\"{'a': 1, 'b': 2}\")\n",
    "dis('dict(a=1, b=2)')\n",
    "dis(\"dict(('a', 1), ('b', 2))\")"
   ]
  },
  {
   "cell_type": "code",
   "execution_count": null,
   "id": "0fc74566",
   "metadata": {},
   "outputs": [],
   "source": [
    "from dataclasses import dataclass\n",
    "from enum import Enum\n",
    "\n",
    "class WeatherDescription(str, Enum):\n",
    "    sunny = 'sunny'\n",
    "    rainy = 'rainy'\n",
    "    clowdy = 'clowdy'\n",
    "\n",
    "@dataclass\n",
    "class Weather:\n",
    "    temperature: float\n",
    "    humidity: int\n",
    "    description: WeatherDescription\n",
    "\n",
    "weather = Weather(temperature=32, humidity=30, description=WeatherDescription.sunny)"
   ]
  },
  {
   "cell_type": "code",
   "execution_count": null,
   "id": "7493a481",
   "metadata": {},
   "outputs": [],
   "source": [
    "from icecream import ic\n",
    "\n",
    "ic(weather)"
   ]
  },
  {
   "cell_type": "code",
   "execution_count": null,
   "id": "388bf37a",
   "metadata": {},
   "outputs": [],
   "source": [
    "assert weather.description == 'sunny'\n",
    "assert weather.description == 'rainy', 'We need rain!'"
   ]
  },
  {
   "cell_type": "code",
   "execution_count": null,
   "id": "aea0bded",
   "metadata": {},
   "outputs": [],
   "source": [
    "! cp debug_skills.py.orig debug_skills.py"
   ]
  },
  {
   "cell_type": "markdown",
   "id": "17bea6e2",
   "metadata": {},
   "source": [
    "# Code style or Good manners rules\n",
    "\n",
    "It will be good to use PEP-0008 and:\n",
    "\n",
    "1. use absolute import statements and these rules: https://peps.python.org/pep-0008/#imports;\n",
    "1. use line length 120;\n",
    "1. use single quotes (') for strings and triple double quotes (\"\"\") for multiline string/comments;\n",
    "1. use this way of text wrapping:\n",
    "\n",
    "```python\n",
    "    fields = (\n",
    "        'id',\n",
    "        'rate_period',\n",
    "        'rate_currency',\n",
    "        'rate_sum',\n",
    "    )\n",
    "    def some_func(\n",
    "        param1,\n",
    "        param2,\n",
    "        param3,\n",
    "        param4,\n",
    "        param5,\n",
    "        param6,\n",
    "    ):\n",
    "        ...\n",
    "\n",
    "```\n",
    "Do not use a slash for breaking a line of code:\n",
    "```python\n",
    "    # not good\n",
    "    some_object \\\n",
    "      .call_method(param1, param2) \\\n",
    "      .call_other(keyword=value) \\\n",
    "      .finalize()\n",
    "      \n",
    "    # good\n",
    "    some_objects.call_method(\n",
    "        param1, param2,\n",
    "    ).call_other(\n",
    "        keyword=value\n",
    "    ).finalize()\n",
    "```\n",
    "\n",
    "## Formatting helpers and linters\n",
    "\n",
    "1. black/autopep8, isort\n",
    "1. mypy\n",
    "1. bandit\n",
    "1. safety\n",
    "1. pre-commit (https://pre-commit.com/)\n"
   ]
  },
  {
   "cell_type": "code",
   "execution_count": null,
   "id": "a246f037",
   "metadata": {},
   "outputs": [],
   "source": [
    "! cp unformatted_sample.py.orig unformatted_sample.py"
   ]
  },
  {
   "cell_type": "code",
   "execution_count": null,
   "id": "f4166689",
   "metadata": {},
   "outputs": [],
   "source": [
    "! cat unformatted_sample.py"
   ]
  },
  {
   "cell_type": "markdown",
   "id": "dfd7893b",
   "metadata": {},
   "source": [
    "### isort"
   ]
  },
  {
   "cell_type": "code",
   "execution_count": null,
   "id": "3931955e",
   "metadata": {},
   "outputs": [],
   "source": [
    "! cat .isort.cfg"
   ]
  },
  {
   "cell_type": "code",
   "execution_count": null,
   "id": "87d496cc",
   "metadata": {},
   "outputs": [],
   "source": [
    "! isort unformatted_sample.py"
   ]
  },
  {
   "cell_type": "markdown",
   "id": "b29c643e",
   "metadata": {},
   "source": [
    "### autopep8 & black"
   ]
  },
  {
   "cell_type": "code",
   "execution_count": null,
   "id": "b00561c1",
   "metadata": {},
   "outputs": [],
   "source": [
    "! cat .flake8"
   ]
  },
  {
   "cell_type": "code",
   "execution_count": null,
   "id": "aff982a0",
   "metadata": {},
   "outputs": [],
   "source": [
    "! flake8 unformatted_sample.py"
   ]
  },
  {
   "cell_type": "code",
   "execution_count": null,
   "id": "bc2ad0a5",
   "metadata": {},
   "outputs": [],
   "source": [
    "! autopep8 --aggressive unformatted_sample.py"
   ]
  },
  {
   "cell_type": "code",
   "execution_count": null,
   "id": "458c3659",
   "metadata": {
    "scrolled": false
   },
   "outputs": [],
   "source": [
    "! autopep8 --aggressive --aggressive unformatted_sample.py"
   ]
  },
  {
   "cell_type": "code",
   "execution_count": null,
   "id": "1f3b0e2c",
   "metadata": {},
   "outputs": [],
   "source": [
    "! autopep8 --aggressive --aggressive --in-place unformatted_sample.py"
   ]
  },
  {
   "cell_type": "code",
   "execution_count": null,
   "id": "0fe28982",
   "metadata": {},
   "outputs": [],
   "source": [
    "! black --diff --color unformatted_sample.py"
   ]
  },
  {
   "cell_type": "markdown",
   "id": "8885e426",
   "metadata": {},
   "source": [
    "### safety"
   ]
  },
  {
   "cell_type": "code",
   "execution_count": null,
   "id": "601ef604",
   "metadata": {},
   "outputs": [],
   "source": [
    "! safety check --file=requirements.txt"
   ]
  },
  {
   "cell_type": "markdown",
   "id": "9dfcf88e",
   "metadata": {},
   "source": [
    "### bandit"
   ]
  },
  {
   "cell_type": "code",
   "execution_count": 130,
   "id": "2c961eb9",
   "metadata": {
    "scrolled": true
   },
   "outputs": [
    {
     "name": "stdout",
     "output_type": "stream",
     "text": [
      "[main]\tINFO\tprofile include tests: None\r\n",
      "[main]\tINFO\tprofile exclude tests: None\r\n",
      "[main]\tINFO\tcli include tests: None\r\n",
      "[main]\tINFO\tcli exclude tests: None\r\n",
      "[main]\tINFO\trunning on Python 3.8.10\r\n",
      "[node_visitor]\tINFO\tUnable to find qualified name for module: debug_skills.py\r\n",
      "\u001b[95mRun started:2022-06-06 10:36:02.737121\u001b[0m\r\n",
      "\u001b[95m\r\n",
      "Test results:\u001b[0m\r\n",
      "\u001b[94m>> Issue: [B105:hardcoded_password_string] Possible hardcoded password: 'bla-bla'\r\n",
      "   Severity: Low   Confidence: Medium\r\n",
      "   Location: debug_skills.py:4:8\r\n",
      "   More Info: https://bandit.readthedocs.io/en/latest/plugins/b105_hardcoded_password_string.html\u001b[0m\r\n",
      "3\t\r\n",
      "4\ttoken = 'bla-bla'\r\n",
      "5\t\r\n",
      "6\tNAMES = [\r\n",
      "\r\n",
      "--------------------------------------------------\r\n",
      "\u001b[95m\r\n",
      "Code scanned:\u001b[0m\r\n",
      "\tTotal lines of code: 31\r\n",
      "\tTotal lines skipped (#nosec): 0\r\n",
      "\u001b[95m\r\n",
      "Run metrics:\u001b[0m\r\n",
      "\tTotal issues (by severity):\r\n",
      "\t\tUndefined: 0.0\r\n",
      "\t\tLow: 1.0\r\n",
      "\t\tMedium: 0.0\r\n",
      "\t\tHigh: 0.0\r\n",
      "\tTotal issues (by confidence):\r\n",
      "\t\tUndefined: 0.0\r\n",
      "\t\tLow: 0.0\r\n",
      "\t\tMedium: 1.0\r\n",
      "\t\tHigh: 0.0\r\n",
      "\u001b[95mFiles skipped (0):\u001b[0m\r\n"
     ]
    }
   ],
   "source": [
    "! bandit debug_skills.py"
   ]
  },
  {
   "cell_type": "markdown",
   "id": "ac18eae1",
   "metadata": {},
   "source": [
    "### mypy"
   ]
  },
  {
   "cell_type": "code",
   "execution_count": 132,
   "id": "71fd529c",
   "metadata": {},
   "outputs": [
    {
     "name": "stdout",
     "output_type": "stream",
     "text": [
      "debug_skills.py:1: \u001b[1m\u001b[31merror:\u001b[m Cannot find implementation or library stub for module named \u001b[m\u001b[1m\"parse\"\u001b[m\u001b[m\r\n",
      "debug_skills.py:1: \u001b[34mnote:\u001b[m See \u001b[4mhttps://mypy.readthedocs.io/en/stable/running_mypy.html#missing-imports\u001b[m\u001b[m\r\n",
      "\u001b[1m\u001b[31mFound 1 error in 1 file (checked 1 source file)\u001b[m\r\n"
     ]
    }
   ],
   "source": [
    "! mypy debug_skills.py"
   ]
  },
  {
   "cell_type": "markdown",
   "id": "c544e15a",
   "metadata": {},
   "source": [
    "### pre-commit\n",
    "https://pre-commit.com"
   ]
  },
  {
   "cell_type": "code",
   "execution_count": null,
   "id": "437a6437",
   "metadata": {},
   "outputs": [],
   "source": [
    "! pre-commit clean"
   ]
  },
  {
   "cell_type": "code",
   "execution_count": null,
   "id": "ab20d9e4",
   "metadata": {},
   "outputs": [],
   "source": [
    "! pre-commit install"
   ]
  },
  {
   "cell_type": "code",
   "execution_count": 134,
   "id": "8fa81de5",
   "metadata": {},
   "outputs": [
    {
     "name": "stdout",
     "output_type": "stream",
     "text": [
      "\u001b[43;30m[WARNING]\u001b[m The 'rev' field of repo 'https://github.com/rubik/xenon.git' appears to be a mutable reference (moving tag / branch).  Mutable references are never updated after first install and are not supported.  See https://pre-commit.com/#using-the-latest-version-for-a-repository for more details.  Hint: `pre-commit autoupdate` often fixes this.\n",
      "isort....................................................................\u001b[42mPassed\u001b[m\n",
      "autopep8.................................................................\u001b[42mPassed\u001b[m\n",
      "flake8...................................................................\u001b[42mPassed\u001b[m\n",
      "mypy.....................................................................\u001b[42mPassed\u001b[m\n",
      "bandit...................................................................\u001b[41mFailed\u001b[m\n",
      "\u001b[2m- hook id: bandit\u001b[m\n",
      "\u001b[2m- exit code: 1\u001b[m\n",
      "\n",
      "[main]\tINFO\tprofile include tests: None\n",
      "[main]\tINFO\tprofile exclude tests: None\n",
      "[main]\tINFO\tcli include tests: None\n",
      "[main]\tINFO\tcli exclude tests: None\n",
      "[main]\tINFO\trunning on Python 3.8.10\n",
      "[node_visitor]\tINFO\tUnable to find qualified name for module: debug_skills.py\n",
      "\u001b[95mRun started:2022-06-06 10:53:23.973746\u001b[0m\n",
      "\u001b[95m\n",
      "Test results:\u001b[0m\n",
      "\u001b[94m>> Issue: [B105:hardcoded_password_string] Possible hardcoded password: 'bla-bla'\n",
      "   Severity: Low   Confidence: Medium\n",
      "   Location: debug_skills.py:4\n",
      "   More Info: https://bandit.readthedocs.io/en/latest/plugins/b105_hardcoded_password_string.html\u001b[0m\n",
      "3\t\n",
      "4\ttoken = 'bla-bla'\n",
      "5\t\n",
      "6\tNAMES = [\n",
      "\n",
      "--------------------------------------------------\n",
      "\u001b[95m\n",
      "Code scanned:\u001b[0m\n",
      "\tTotal lines of code: 31\n",
      "\tTotal lines skipped (#nosec): 0\n",
      "\u001b[95m\n",
      "Run metrics:\u001b[0m\n",
      "\tTotal issues (by severity):\n",
      "\t\tUndefined: 0.0\n",
      "\t\tLow: 1.0\n",
      "\t\tMedium: 0.0\n",
      "\t\tHigh: 0.0\n",
      "\tTotal issues (by confidence):\n",
      "\t\tUndefined: 0.0\n",
      "\t\tLow: 0.0\n",
      "\t\tMedium: 1.0\n",
      "\t\tHigh: 0.0\n",
      "\u001b[95mFiles skipped (0):\u001b[0m\n",
      "\n",
      "Xenon....................................................................\u001b[42mPassed\u001b[m\n",
      "GitLab CI/CD configuration check.....................(no files to check)\u001b[46;30mSkipped\u001b[m\n",
      "pip-compile..........................................(no files to check)\u001b[46;30mSkipped\u001b[m\n",
      "safety...............................................(no files to check)\u001b[46;30mSkipped\u001b[m\n",
      "yamllint.............................................(no files to check)\u001b[46;30mSkipped\u001b[m\n"
     ]
    }
   ],
   "source": [
    "! pre-commit run --files debug_skills.py"
   ]
  },
  {
   "cell_type": "code",
   "execution_count": null,
   "id": "7039b776",
   "metadata": {},
   "outputs": [],
   "source": []
  }
 ],
 "metadata": {
  "kernelspec": {
   "display_name": "Python 3 (ipykernel)",
   "language": "python",
   "name": "python3"
  },
  "language_info": {
   "codemirror_mode": {
    "name": "ipython",
    "version": 3
   },
   "file_extension": ".py",
   "mimetype": "text/x-python",
   "name": "python",
   "nbconvert_exporter": "python",
   "pygments_lexer": "ipython3",
   "version": "3.9.8"
  }
 },
 "nbformat": 4,
 "nbformat_minor": 5
}
