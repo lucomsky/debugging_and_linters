{
 "cells": [
  {
   "cell_type": "markdown",
   "id": "528adcc6",
   "metadata": {},
   "source": [
    "# Formatting\n",
    "\n",
    "> “Indeed, the ratio of time spent reading versus writing is well over 10 to 1. We are constantly reading old code as part of the effort to write new code. ...[Therefore,] making it easy to read makes it easier to write.”\n",
    ">\n",
    ">― Robert C. Martin, Clean Code: A Handbook of Agile Software Craftsmanship \n",
    "\n",
    "https://www.goodreads.com/quotes/835238-indeed-the-ratio-of-time-spent-reading-versus-writing-is\n"
   ]
  },
  {
   "cell_type": "code",
   "execution_count": null,
   "id": "089712a2",
   "metadata": {},
   "outputs": [],
   "source": [
    "quantity = 3\n",
    "itemno = 567\n",
    "price = 49\n",
    "\n",
    "myorder_legacy =  \"I want %s pieces of item number %s for %.2f dollars.\"\n",
    "print(myorder_legacy % (quantity, itemno, price))\n",
    "\n",
    "myorder = \"I want {} pieces of item number {} for {:.2f} dollars.\"\n",
    "print(myorder.format(quantity, itemno, price))\n",
    "\n",
    "myorder_indexed = \"I want {0} pieces of item number {1} for {2:.2f} dollars.\"\n",
    "print(myorder_indexed.format(quantity, itemno, price))\n",
    "    \n",
    "myorder_named = \"I want {quantity} pieces of item number {itemno} for {price:.2f} dollars.\"\n",
    "print(myorder_format.format(quantity=quantity, itemno=itemno, price=price))"
   ]
  },
  {
   "cell_type": "markdown",
   "id": "6b71dfa1",
   "metadata": {},
   "source": [
    "## Exploiting format string"
   ]
  },
  {
   "cell_type": "code",
   "execution_count": null,
   "id": "3d8293c0",
   "metadata": {},
   "outputs": [],
   "source": [
    "api_key = 'my_secret'\n",
    "\n",
    "\n",
    "class Person(object):\n",
    "    def __init__(self, username):\n",
    "        super(Person, self).__init__()\n",
    "        self.username = username\n",
    "\n",
    "def congratulate_user(format_string: str, person: Person):\n",
    "    print(format_string.format(person=person))\n",
    "\n",
    "        \n",
    "person = Person('Bill')\n",
    "\n",
    "congratulate_user(\"Hi {person.username}!\", person)"
   ]
  },
  {
   "cell_type": "code",
   "execution_count": null,
   "id": "66dc68b9",
   "metadata": {},
   "outputs": [],
   "source": [
    "#Hacking data\n",
    "congratulate_user(\"{person.__init__.__globals__}\", person)"
   ]
  },
  {
   "cell_type": "markdown",
   "id": "6004ba94",
   "metadata": {},
   "source": [
    "# Debugging\n",
    "1. dis\n",
    "1. print\n",
    "1. icecream\n",
    "1. logging\n",
    "1. assert\n",
    "1. pdb\n",
    "1. breakpoint()\n",
    "1. remote debugging (ssh, https://github.com/jorgecolonconsulting/debugger_helper)"
   ]
  },
  {
   "cell_type": "code",
   "execution_count": null,
   "id": "fc779563",
   "metadata": {
    "scrolled": true
   },
   "outputs": [],
   "source": [
    "from dis import dis\n",
    "dis(\"{'a': 1, 'b': 2}\")\n",
    "dis('dict(a=1, b=2)')\n",
    "dis(\"dict(('a', 1), ('b', 2))\")"
   ]
  },
  {
   "cell_type": "code",
   "execution_count": null,
   "id": "b24e78af",
   "metadata": {},
   "outputs": [],
   "source": [
    "from dataclasses import dataclass\n",
    "from enum import Enum\n",
    "\n",
    "class WeatherDescription(str, Enum):\n",
    "    sunny = 'sunny'\n",
    "    rainy = 'rainy'\n",
    "    clowdy = 'clowdy'\n",
    "\n",
    "@dataclass\n",
    "class Weather:\n",
    "    temperature: float\n",
    "    humidity: int\n",
    "    description: WeatherDescription\n",
    "\n",
    "weather = Weather(temperature=32, humidity=30, description=WeatherDescription.sunny)"
   ]
  },
  {
   "cell_type": "code",
   "execution_count": null,
   "id": "0e2469d2",
   "metadata": {},
   "outputs": [],
   "source": [
    "from icecream import ic\n",
    "\n",
    "ic(weather)"
   ]
  },
  {
   "cell_type": "code",
   "execution_count": null,
   "id": "ebcbe8e1",
   "metadata": {},
   "outputs": [],
   "source": [
    "assert weather.description == 'sunny'\n",
    "assert weather.description == 'rainy', 'We need rain!'"
   ]
  },
  {
   "cell_type": "code",
   "execution_count": null,
   "id": "e8f31729",
   "metadata": {},
   "outputs": [],
   "source": [
    "! cp debug_skills.py.orig debug_skills.py"
   ]
  },
  {
   "cell_type": "markdown",
   "id": "55b1e0fe",
   "metadata": {},
   "source": [
    "# Code style or Good manners rules\n",
    "\n",
    "It will be good to use PEP-0008 and:\n",
    "\n",
    "1. use absolute import statements and these rules: https://peps.python.org/pep-0008/#imports;\n",
    "1. use line length 120;\n",
    "1. use single quotes (') for strings and triple double quotes (\"\"\") for multiline string/comments;\n",
    "1. use this way of text wrapping:\n",
    "\n",
    "```python\n",
    "    fields = (\n",
    "        'id',\n",
    "        'rate_period',\n",
    "        'rate_currency',\n",
    "        'rate_sum',\n",
    "    )\n",
    "    def some_func(\n",
    "        param1,\n",
    "        param2,\n",
    "        param3,\n",
    "        param4,\n",
    "        param5,\n",
    "        param6,\n",
    "    ):\n",
    "        ...\n",
    "\n",
    "```\n",
    "Do not use a slash for breaking a line of code:\n",
    "```python\n",
    "    # not good\n",
    "    some_object \\\n",
    "      .call_method(param1, param2) \\\n",
    "      .call_other(keyword=value) \\\n",
    "      .finalize()\n",
    "      \n",
    "    # good\n",
    "    some_objects.call_method(\n",
    "        param1, param2,\n",
    "    ).call_other(\n",
    "        keyword=value\n",
    "    ).finalize()\n",
    "```\n",
    "\n",
    "## Formatting helpers and linters\n",
    "\n",
    "1. black/autopep8, isort\n",
    "1. mypy\n",
    "1. bandit\n",
    "1. safety\n",
    "1. pre-commit (https://pre-commit.com/)\n"
   ]
  },
  {
   "cell_type": "code",
   "execution_count": null,
   "id": "109ede17",
   "metadata": {},
   "outputs": [],
   "source": [
    "! cp unformatted_sample.py.orig unformatted_sample.py"
   ]
  },
  {
   "cell_type": "code",
   "execution_count": null,
   "id": "c722f755",
   "metadata": {},
   "outputs": [],
   "source": [
    "! cat unformatted_sample.py"
   ]
  },
  {
   "cell_type": "markdown",
   "id": "30e76a8c",
   "metadata": {},
   "source": [
    "### isort"
   ]
  },
  {
   "cell_type": "code",
   "execution_count": null,
   "id": "ac4b7098",
   "metadata": {},
   "outputs": [],
   "source": [
    "! cat .isort.cfg"
   ]
  },
  {
   "cell_type": "code",
   "execution_count": null,
   "id": "694e8628",
   "metadata": {},
   "outputs": [],
   "source": [
    "! isort unformatted_sample.py"
   ]
  },
  {
   "cell_type": "markdown",
   "id": "c49f52c1",
   "metadata": {},
   "source": [
    "### autopep8 & black"
   ]
  },
  {
   "cell_type": "code",
   "execution_count": null,
   "id": "6aa4c018",
   "metadata": {},
   "outputs": [],
   "source": [
    "! cat .flake8"
   ]
  },
  {
   "cell_type": "code",
   "execution_count": null,
   "id": "a4f23270",
   "metadata": {},
   "outputs": [],
   "source": [
    "! flake8 unformatted_sample.py"
   ]
  },
  {
   "cell_type": "code",
   "execution_count": null,
   "id": "d5c03e3f",
   "metadata": {},
   "outputs": [],
   "source": [
    "! autopep8 --aggressive unformatted_sample.py"
   ]
  },
  {
   "cell_type": "code",
   "execution_count": null,
   "id": "6d4a8f12",
   "metadata": {
    "scrolled": false
   },
   "outputs": [],
   "source": [
    "! autopep8 --aggressive --aggressive unformatted_sample.py"
   ]
  },
  {
   "cell_type": "code",
   "execution_count": null,
   "id": "6aeb8717",
   "metadata": {},
   "outputs": [],
   "source": [
    "! autopep8 --aggressive --aggressive --in-place unformatted_sample.py"
   ]
  },
  {
   "cell_type": "code",
   "execution_count": null,
   "id": "cbe13801",
   "metadata": {},
   "outputs": [],
   "source": [
    "! black --diff --color unformatted_sample.py"
   ]
  },
  {
   "cell_type": "markdown",
   "id": "d31f1d48",
   "metadata": {},
   "source": [
    "### safety"
   ]
  },
  {
   "cell_type": "code",
   "execution_count": null,
   "id": "f1c74727",
   "metadata": {},
   "outputs": [],
   "source": [
    "! safety check --file=requirements.txt"
   ]
  },
  {
   "cell_type": "markdown",
   "id": "b0082f87",
   "metadata": {},
   "source": [
    "### bandit"
   ]
  },
  {
   "cell_type": "code",
   "execution_count": null,
   "id": "64461e98",
   "metadata": {
    "scrolled": true
   },
   "outputs": [],
   "source": [
    "! bandit debug_skills.py"
   ]
  },
  {
   "cell_type": "markdown",
   "id": "142b0184",
   "metadata": {},
   "source": [
    "### mypy"
   ]
  },
  {
   "cell_type": "code",
   "execution_count": null,
   "id": "9b1d7953",
   "metadata": {},
   "outputs": [],
   "source": [
    "! mypy debug_skills.py"
   ]
  },
  {
   "cell_type": "markdown",
   "id": "968201dc",
   "metadata": {},
   "source": [
    "### pre-commit\n",
    "https://pre-commit.com"
   ]
  },
  {
   "cell_type": "code",
   "execution_count": null,
   "id": "af1d8698",
   "metadata": {},
   "outputs": [],
   "source": [
    "! pre-commit clean"
   ]
  },
  {
   "cell_type": "code",
   "execution_count": null,
   "id": "41e571c0",
   "metadata": {},
   "outputs": [],
   "source": [
    "! pre-commit install"
   ]
  },
  {
   "cell_type": "code",
   "execution_count": null,
   "id": "3c1d420f",
   "metadata": {},
   "outputs": [],
   "source": [
    "! pre-commit run --files debug_skills.py"
   ]
  }
 ],
 "metadata": {
  "kernelspec": {
   "display_name": "Python 3 (ipykernel)",
   "language": "python",
   "name": "python3"
  },
  "language_info": {
   "codemirror_mode": {
    "name": "ipython",
    "version": 3
   },
   "file_extension": ".py",
   "mimetype": "text/x-python",
   "name": "python",
   "nbconvert_exporter": "python",
   "pygments_lexer": "ipython3",
   "version": "3.9.8"
  }
 },
 "nbformat": 4,
 "nbformat_minor": 5
}
